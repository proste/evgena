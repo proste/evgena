{
 "cells": [
  {
   "cell_type": "markdown",
   "metadata": {},
   "source": [
    "# Images to label #\n",
    "Demonstration of GA ability to generate adversarial pattern for misclassifying a set of images to given label."
   ]
  },
  {
   "cell_type": "code",
   "execution_count": null,
   "metadata": {},
   "outputs": [],
   "source": [
    "%cd .."
   ]
  },
  {
   "cell_type": "code",
   "execution_count": null,
   "metadata": {},
   "outputs": [],
   "source": [
    "import numpy as np\n",
    "import matplotlib.pyplot as plt\n",
    "\n",
    "from evgena.dataset import Dataset\n",
    "from evgena.genetals import Images2LabelObjectiveFnc\n",
    "from evgena.models import TfModel\n",
    "from evgena.metrics import mse\n",
    "from evgena.utils.large_files import maybe_download\n",
    "from genetals.core import *\n",
    "from genetals.initializers import MultivariateRandomInit\n",
    "from genetals.operators import ShuffleOperator, TwoPointXover, BiasedMutation, NSGAOperator\n",
    "from genetals.callbacks import MultiObjectiveReport, GAStatus"
   ]
  },
  {
   "cell_type": "markdown",
   "metadata": {},
   "source": [
    "Model to be \"attacked\""
   ]
  },
  {
   "cell_type": "code",
   "execution_count": null,
   "metadata": {},
   "outputs": [],
   "source": [
    "model = TfModel(\n",
    "    'models/fashion_mnist_cnn/model',\n",
    "    'end_points/images',\n",
    "    'end_points/scores',\n",
    "    batch_size=8192\n",
    ")"
   ]
  },
  {
   "cell_type": "markdown",
   "metadata": {},
   "source": [
    "Set of images to convert"
   ]
  },
  {
   "cell_type": "code",
   "execution_count": null,
   "metadata": {},
   "outputs": [],
   "source": [
    "fashion_mnist = Dataset.from_nprecord(maybe_download('datasets/fashion_mnist.npz'))\n",
    "\n",
    "source_class = 0\n",
    "target_class = 5\n",
    "images = Dataset.sub_dataset(fashion_mnist, [source_class], do_stratified=False).train.X"
   ]
  },
  {
   "cell_type": "markdown",
   "metadata": {},
   "source": [
    "Visualizations"
   ]
  },
  {
   "cell_type": "code",
   "execution_count": null,
   "metadata": {},
   "outputs": [],
   "source": [
    "%matplotlib ipympl\n",
    "\n",
    "fig, ax = plt.subplots(1, 1, figsize=(9,4))\n",
    "# fig.tight_layout()\n",
    "\n",
    "ax.set_xlim(0.0000000001, 1)\n",
    "ax.set_xlabel('Target class prediction probability')\n",
    "ax.set_ylim(-0.4, 0)\n",
    "ax.set_ylabel('similarity')\n",
    "ax.set_xscale('log')\n",
    "ax.grid(axis='both')\n",
    "ax.vlines(0.5, -1, 1, colors='g')"
   ]
  },
  {
   "cell_type": "markdown",
   "metadata": {},
   "source": [
    "GA definition"
   ]
  },
  {
   "cell_type": "code",
   "execution_count": null,
   "metadata": {},
   "outputs": [],
   "source": [
    "initializer = MultivariateRandomInit.uniform(\n",
    "    (14, 14),\n",
    "    scales=np.random.permutation((np.exp(np.linspace(3, 5, 100)) - 1) / (np.exp(5) - 1))\n",
    ")\n",
    "\n",
    "graph = OperatorGraph()\n",
    "select_op = ShuffleOperator(graph.init_op)\n",
    "xover_op = TwoPointXover(select_op, 0.6)\n",
    "mutation_op = BiasedMutation(xover_op, sigma=0.1, l_bound=-1, u_bound=1)\n",
    "moea_op = NSGAOperator(graph.init_op, mutation_op)\n",
    "\n",
    "callbacks = [MultiObjectiveReport(ax), GAStatus(fig)]\n",
    "\n",
    "ga = GeneticAlgorithm(\n",
    "    initializer=initializer,\n",
    "    operator_graph=graph,\n",
    "    objective_fnc=Images2LabelObjectiveFnc(\n",
    "        model, lambda x, y: - mse(x, y),\n",
    "        target_class, images,\n",
    "        sample_size=64, sample_ttl=0.98\n",
    "    ),\n",
    "    callbacks=callbacks,\n",
    "    results_dir='logs/images2label'\n",
    ")"
   ]
  },
  {
   "cell_type": "markdown",
   "metadata": {},
   "source": [
    "GA run"
   ]
  },
  {
   "cell_type": "code",
   "execution_count": null,
   "metadata": {},
   "outputs": [],
   "source": [
    "%time final_pop, fitnesses, objectives = ga.run(population_size=256, generation_cap=64)"
   ]
  },
  {
   "cell_type": "code",
   "execution_count": null,
   "metadata": {},
   "outputs": [],
   "source": []
  }
 ],
 "metadata": {
  "kernelspec": {
   "display_name": "Python 3",
   "language": "python",
   "name": "python3"
  },
  "language_info": {
   "codemirror_mode": {
    "name": "ipython",
    "version": 3
   },
   "file_extension": ".py",
   "mimetype": "text/x-python",
   "name": "python",
   "nbconvert_exporter": "python",
   "pygments_lexer": "ipython3",
   "version": "3.6.5"
  }
 },
 "nbformat": 4,
 "nbformat_minor": 2
}
