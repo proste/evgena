{
 "cells": [
  {
   "cell_type": "code",
   "execution_count": null,
   "metadata": {},
   "outputs": [],
   "source": [
    "%cd .."
   ]
  },
  {
   "cell_type": "code",
   "execution_count": null,
   "metadata": {},
   "outputs": [],
   "source": [
    "from time import sleep\n",
    "\n",
    "import numpy as np\n",
    "import matplotlib.pyplot as plt\n",
    "\n",
    "from evgena.dataset import Dataset\n",
    "from evgena.genetals import Images2LabelObjectiveFnc, DecayImageSampler, TrivialImageSampler, BinomialInit, ClipOperator, BinomialMutation, FGSMMutation\n",
    "from evgena.model import TrainableTfModel\n",
    "from evgena.metrics import mse\n",
    "from evgena.utils.large_files import maybe_download\n",
    "from evgena.data_transformations import images_to_BHWC, augment_images\n",
    "from genetals.core import *\n",
    "from genetals.initializers import MultivariateRandomInit\n",
    "from genetals.operators import ShuffleOperator, TwoPointXover, BiasedMutation, NSGAOperator, UniversalXover\n",
    "from genetals.callbacks import MultiObjectiveReport, GAStatus\n",
    "\n",
    "\n",
    "class TooGoodEarlyStopping(EarlyStoppingBase):\n",
    "    def __init__(self, prediction_bound: float = 0.5, similarity_bound: float = -0.001):\n",
    "        super(TooGoodEarlyStopping, self).__init__()\n",
    "        \n",
    "        self._ticks = 0\n",
    "        self._results = []\n",
    "        self._prediction_bound = prediction_bound\n",
    "        self._similarity_bound = similarity_bound\n",
    "\n",
    "    def __call__(self, ga: 'GeneticAlgorithm') -> bool:\n",
    "        curr_pop = ga.capture(-1)\n",
    "        \n",
    "        success = np.all(\n",
    "            curr_pop.objectives > [self._prediction_bound, self._similarity_bound], axis=-1\n",
    "        )\n",
    "        if np.any(success):\n",
    "            self._results.append((curr_pop.genes[success].copy(), curr_pop.objectives[success].copy(), ga.current_generation))\n",
    "            return True\n",
    "            \n",
    "        return False\n",
    "    \n",
    "    def tick(self):\n",
    "        self._ticks += 1\n",
    "        while len(self._results) < self._ticks:\n",
    "            self._results.append((None, None, None))"
   ]
  },
  {
   "cell_type": "markdown",
   "metadata": {},
   "source": [
    "# Images to label #\n",
    "Demonstration of GA ability to generate adversarial pattern for misclassifying a set of images to given label.\n",
    "- [experiment](#Experiment)\n",
    "- [results inspection](#Results-inspection)"
   ]
  },
  {
   "cell_type": "markdown",
   "metadata": {},
   "source": [
    "## Experiment ##"
   ]
  },
  {
   "cell_type": "markdown",
   "metadata": {},
   "source": [
    "Model to be \"attacked\" and set of images to convert"
   ]
  },
  {
   "cell_type": "code",
   "execution_count": null,
   "metadata": {},
   "outputs": [],
   "source": [
    "# model_path = 'models/fashion_mnist_densenet/fold_0'\n",
    "model_path = 'models/fashion_mnist_simplenet/fold_7'\n",
    "\n",
    "model = TrainableTfModel(model_path)\n",
    "fashion_mnist = Dataset.from_nprecord('datasets/stratified_fashion_mnist.npz')"
   ]
  },
  {
   "cell_type": "code",
   "execution_count": null,
   "metadata": {},
   "outputs": [],
   "source": [
    "source_class = 0\n",
    "target_class = 1\n",
    "source_dataset = Dataset.sub_dataset(fashion_mnist, [source_class], do_stratified=False)\n",
    "\n",
    "target_images = source_dataset.test.X\n",
    "image_sampler = TrivialImageSampler(target_images[:1])  # singleton attack\n",
    "# image_sampler = DecayImageSampler(target_images, sample_size=32, decay=0.99)  # universal attack\n",
    "dataset = image_sampler._source_images"
   ]
  },
  {
   "cell_type": "markdown",
   "metadata": {},
   "source": [
    "### GA definition ###"
   ]
  },
  {
   "cell_type": "code",
   "execution_count": null,
   "metadata": {},
   "outputs": [],
   "source": [
    "%matplotlib notebook\n",
    "\n",
    "# visualization\n",
    "fig, ax = plt.subplots(1, 1, figsize=(8,4))\n",
    "\n",
    "ax.set_xlim(0.0000000001, 1)\n",
    "ax.set_xlabel('Target class prediction probability')\n",
    "ax.set_ylim(-0.01, 0)\n",
    "ax.set_ylabel('similarity')\n",
    "ax.set_xscale('log')\n",
    "ax.grid(axis='both')\n",
    "ax.vlines(0.5, -1, 1, colors='g')\n",
    "\n",
    "initializer = BinomialInit((28, 28), (1/255), [128, 1024, 4096])\n",
    "\n",
    "# GA graph definition\n",
    "graph = OperatorGraph()\n",
    "select_op = ShuffleOperator(graph.init_op)\n",
    "xover_op = TwoPointXover(select_op, 0.8)\n",
    "mutation_op = BinomialMutation(\n",
    "    xover_op, individual_mut_ratio=0.3, gene_mut_ratio=0.15,\n",
    "    step_size=(1/255), max_steps=26, mean_steps=0\n",
    ")\n",
    "clip_op = ClipOperator(mutation_op, -0.2, 0.2)\n",
    "moea_op = NSGAOperator(graph.init_op, clip_op)\n",
    "\n",
    "callbacks = [MultiObjectiveReport(ax), GAStatus(fig), lambda *_: image_sampler.next()]\n",
    "\n",
    "# GA initialization\n",
    "ga = GeneticAlgorithm(\n",
    "    initializer=initializer,\n",
    "    operator_graph=graph,\n",
    "    objective_fnc=Images2LabelObjectiveFnc(\n",
    "        model, target_class, image_sampler, lambda x, y: - np.maximum(mse(x, y), 0.0005)\n",
    "    ),\n",
    "    # early_stopping=TooGoodEarlyStopping(similarity_bound=-0.005),  # comment if you early stopping undesirable\n",
    "    callbacks=callbacks,\n",
    "    metadata={\n",
    "        'dataset': target_images,\n",
    "        'model': np.asarray(model_path),\n",
    "        'source_class': np.asarray(source_class),\n",
    "        'target_class': np.asarray(target_class)\n",
    "    },\n",
    "    results_dir='logs/images2label'\n",
    ")"
   ]
  },
  {
   "cell_type": "markdown",
   "metadata": {},
   "source": [
    "### GA run ###"
   ]
  },
  {
   "cell_type": "code",
   "execution_count": null,
   "metadata": {},
   "outputs": [],
   "source": [
    "%time final_pop, fitnesses, objectives = ga.run(population_size=256, generation_cap=256)"
   ]
  },
  {
   "cell_type": "markdown",
   "metadata": {},
   "source": [
    "## Results inspection ##"
   ]
  },
  {
   "cell_type": "code",
   "execution_count": null,
   "metadata": {},
   "outputs": [],
   "source": [
    "prediction_bound = 0.5\n",
    "\n",
    "augmented_images = augment_images(final_pop.genes, dataset)\n",
    "augmented_images_batch_shaped = augmented_images.reshape(-1, *augmented_images.shape[2:4], 1)\n",
    "\n",
    "generalization = model(augmented_images_batch_shaped)[:, target_class].reshape(augmented_images.shape[:2])\n",
    "\n",
    "print('Mean test prediction: {:4f}, target predicted {} out of {}.'.format(generalization.mean(), np.sum(generalization > 0.5), generalization.size))\n",
    "\n",
    "filtered_indices, *_ = np.where(\n",
    "    generalization.max(axis=-1) > prediction_bound\n",
    ")\n",
    "\n",
    "print('Successfull test prediction: {:4f}, target predicted {} out of {}'.format(generalization[filtered_indices].mean(), np.sum(generalization[filtered_indices] > 0.5), generalization[filtered_indices].size))\n",
    "\n",
    "filtered_individuals = final_pop.genes[filtered_indices]\n",
    "leaderboard = filtered_indices[np.flip(np.argsort(generalization[filtered_indices].sum(axis=-1)), 0)]\n",
    "\n",
    "%matplotlib ipympl\n",
    "\n",
    "compare_fig, compare_ax = plt.subplots(1, 3, figsize=(8, 3))\n",
    "compare_fig.tight_layout()"
   ]
  },
  {
   "cell_type": "code",
   "execution_count": null,
   "metadata": {},
   "outputs": [],
   "source": [
    "# individual_rank = -1  # smallest feasible perturbation\n",
    "individual_rank = 0  # smallest feasible error\n",
    "\n",
    "individual_i = leaderboard[individual_rank]\n",
    "image_i = np.where(generalization[leaderboard[individual_rank]] > 0.5)[0][0]\n",
    "\n",
    "compare_ax[0].imshow(dataset[image_i], cmap='gray', vmin=0, vmax=1)\n",
    "compare_ax[1].imshow(final_pop.genes[individual_i], cmap='plasma', vmin=-1, vmax=1)\n",
    "compare_ax[2].imshow(augmented_images[individual_i, image_i][:,:,0], cmap='gray', vmin=0, vmax=1)\n",
    "\n",
    "compare_fig.canvas.set_window_title('Target score: {}'.format(\n",
    "    model(augmented_images[individual_i, image_i])[0, target_class]\n",
    "))\n",
    "compare_fig.canvas.draw()"
   ]
  },
  {
   "cell_type": "code",
   "execution_count": null,
   "metadata": {},
   "outputs": [],
   "source": []
  }
 ],
 "metadata": {
  "kernelspec": {
   "display_name": "Python 3",
   "language": "python",
   "name": "python3"
  },
  "language_info": {
   "codemirror_mode": {
    "name": "ipython",
    "version": 3
   },
   "file_extension": ".py",
   "mimetype": "text/x-python",
   "name": "python",
   "nbconvert_exporter": "python",
   "pygments_lexer": "ipython3",
   "version": "3.6.5"
  }
 },
 "nbformat": 4,
 "nbformat_minor": 2
}
