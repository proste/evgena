{
 "cells": [
  {
   "cell_type": "code",
   "execution_count": null,
   "metadata": {},
   "outputs": [],
   "source": [
    "%cd .."
   ]
  },
  {
   "cell_type": "code",
   "execution_count": null,
   "metadata": {},
   "outputs": [],
   "source": [
    "from time import sleep\n",
    "\n",
    "import numpy as np\n",
    "import matplotlib.pyplot as plt\n",
    "\n",
    "from evgena.dataset import Dataset\n",
    "from evgena.genetals import Images2LabelObjectiveFnc\n",
    "from evgena.model import TfModel\n",
    "from evgena.metrics import mse\n",
    "from evgena.utils.large_files import maybe_download\n",
    "from evgena.data_transformations import images_to_BHWC, augment_images\n",
    "from genetals.core import *\n",
    "from genetals.initializers import MultivariateRandomInit\n",
    "from genetals.operators import ShuffleOperator, TwoPointXover, BiasedMutation, NSGAOperator\n",
    "from genetals.callbacks import MultiObjectiveReport, GAStatus"
   ]
  },
  {
   "cell_type": "markdown",
   "metadata": {},
   "source": [
    "# Images to label #\n",
    "Demonstration of GA ability to generate adversarial pattern for misclassifying a set of images to given label.\n",
    "- [experiment](#Experiment)\n",
    "- [result inspection](#Result-inspection)"
   ]
  },
  {
   "cell_type": "markdown",
   "metadata": {},
   "source": [
    "## Experiment ##"
   ]
  },
  {
   "cell_type": "markdown",
   "metadata": {},
   "source": [
    "Model to be \"attacked\""
   ]
  },
  {
   "cell_type": "markdown",
   "metadata": {},
   "source": [
    "Set of images to convert"
   ]
  },
  {
   "cell_type": "code",
   "execution_count": null,
   "metadata": {},
   "outputs": [],
   "source": [
    "model_path = 'models/2018-05-26_025632.fashion_mnist-b_64-lr_0002/30-best'\n",
    "\n",
    "model = TfModel(model_path, batch_size=8192)\n",
    "fashion_mnist = Dataset.from_nprecord(maybe_download('datasets/fashion_mnist.npz'))\n",
    "\n",
    "source_class = 0\n",
    "target_class = 5\n",
    "source_dataset = Dataset.sub_dataset(fashion_mnist, [source_class], do_stratified=False)\n",
    "\n",
    "target_images = source_dataset.train.X[0:1]"
   ]
  },
  {
   "cell_type": "markdown",
   "metadata": {},
   "source": [
    "Visualizations"
   ]
  },
  {
   "cell_type": "code",
   "execution_count": null,
   "metadata": {},
   "outputs": [],
   "source": [
    "%matplotlib ipympl\n",
    "\n",
    "fig, ax = plt.subplots(1, 1, figsize=(9,4))\n",
    "# fig.tight_layout()\n",
    "\n",
    "ax.set_xlim(0.0000000001, 1)\n",
    "ax.set_xlabel('Target class prediction probability')\n",
    "ax.set_ylim(-0.05, 0)\n",
    "ax.set_ylabel('similarity')\n",
    "ax.set_xscale('log')\n",
    "ax.grid(axis='both')\n",
    "ax.vlines(0.5, -1, 1, colors='g')"
   ]
  },
  {
   "cell_type": "markdown",
   "metadata": {},
   "source": [
    "GA definition"
   ]
  },
  {
   "cell_type": "code",
   "execution_count": null,
   "metadata": {},
   "outputs": [],
   "source": [
    "initializer = MultivariateRandomInit.uniform(\n",
    "    (28, 28),\n",
    "    scales=np.random.permutation((np.exp(np.linspace(3, 5, 100)) - 1) / (np.exp(5) - 1))\n",
    ")\n",
    "\n",
    "graph = OperatorGraph()\n",
    "select_op = ShuffleOperator(graph.init_op)\n",
    "xover_op = TwoPointXover(select_op, 0.8)\n",
    "mutation_op = BiasedMutation(xover_op, sigma=0.1, l_bound=-0.1, u_bound=0.1)\n",
    "moea_op = NSGAOperator(graph.init_op, mutation_op)\n",
    "\n",
    "callbacks = [MultiObjectiveReport(ax), GAStatus(fig)]\n",
    "\n",
    "ga = GeneticAlgorithm(\n",
    "    initializer=initializer,\n",
    "    operator_graph=graph,\n",
    "    objective_fnc=Images2LabelObjectiveFnc(\n",
    "        model, lambda x, y: - mse(x, y),\n",
    "        target_class, target_images,  # TODO fix one image\n",
    "        sample_size=1, sample_ttl=1\n",
    "    ),\n",
    "    callbacks=callbacks,\n",
    "    metadata={\n",
    "        'dataset': target_images,\n",
    "        'model': np.asarray(model_path),\n",
    "        'source_class': np.asarray(source_class),\n",
    "        'target_class': np.asarray(target_class)\n",
    "    },\n",
    "    results_dir='logs/images2label'\n",
    ")"
   ]
  },
  {
   "cell_type": "markdown",
   "metadata": {},
   "source": [
    "GA run"
   ]
  },
  {
   "cell_type": "code",
   "execution_count": null,
   "metadata": {},
   "outputs": [],
   "source": [
    "%time final_pop, fitnesses, objectives = ga.run(population_size=512, generation_cap=256)"
   ]
  },
  {
   "cell_type": "code",
   "execution_count": null,
   "metadata": {},
   "outputs": [],
   "source": [
    "%time final_pop, fitnesses, objectives = ga.resume(generation_cap=256)"
   ]
  },
  {
   "cell_type": "markdown",
   "metadata": {},
   "source": [
    "## Result inspection ##"
   ]
  },
  {
   "cell_type": "code",
   "execution_count": null,
   "metadata": {},
   "outputs": [],
   "source": [
    "log_path = 'logs/images2label/18-05-26-21-50-52.npz'\n",
    "\n",
    "with np.load(log_path) as run_file:\n",
    "    individuals = run_file['genes']\n",
    "    objectives = run_file['objectives']\n",
    "    fitnesses = run_file['fitnesses']\n",
    "    dataset = run_file['dataset']\n",
    "    model_path = run_file['model']\n",
    "    source_class = run_file['source_class']\n",
    "    target_class = run_file['target_class']\n",
    "    \n",
    "model = TfModel(str(model_path))"
   ]
  },
  {
   "cell_type": "markdown",
   "metadata": {},
   "source": [
    "### Replay ###"
   ]
  },
  {
   "cell_type": "code",
   "execution_count": null,
   "metadata": {},
   "outputs": [],
   "source": [
    "%matplotlib ipympl\n",
    "\n",
    "fig, ax = plt.subplots(1, 1, figsize=(9,5))\n",
    "# fig.tight_layout()\n",
    "\n",
    "ax.set_xlim(0.0000000001, 1)\n",
    "ax.set_xlabel('Target class prediction probability')\n",
    "ax.set_ylabel('mean SSIM')\n",
    "ax.set_xscale('log')\n",
    "ax.grid(axis='both')\n",
    "ax.vlines(0.5, -1, 1, colors='g')"
   ]
  },
  {
   "cell_type": "code",
   "execution_count": null,
   "metadata": {},
   "outputs": [],
   "source": [
    "ax.set_xlim(objectives[..., 0].min(), 1)\n",
    "ax.set_ylim(objectives[..., 1].min(), objectives[..., 1].max())\n",
    "\n",
    "for epoch, curr_objectives in enumerate(objectives):\n",
    "    ax.lines = []\n",
    "    ax.plot(*curr_objectives.transpose(), 'r+')\n",
    "    \n",
    "    fig.canvas.set_window_title('Current generation: {}'.format(epoch))\n",
    "    fig.canvas.draw()\n",
    "    \n",
    "    sleep(0.02)"
   ]
  },
  {
   "cell_type": "markdown",
   "metadata": {},
   "source": [
    "### Vizualization ###"
   ]
  },
  {
   "cell_type": "code",
   "execution_count": null,
   "metadata": {},
   "outputs": [],
   "source": [
    "prediction_bound = 0.5\n",
    "sim_bound = -0.1\n",
    "\n",
    "filtered_indices, *_ = np.where(np.logical_and(\n",
    "    objectives[-1, :, 0] > prediction_bound,\n",
    "    objectives[-1, :, 1] > sim_bound\n",
    "))\n",
    "filtered_individuals = individuals[filtered_indices]\n",
    "filtered_objectives = objectives[-1, filtered_indices]\n",
    "\n",
    "augmented_images = augment_images(filtered_individuals, dataset)\n",
    "augmented_images_batch_shaped = augmented_images.reshape(-1, *augmented_images.shape[2:4], 1)\n",
    "\n",
    "generalization = model(augmented_images_batch_shaped)[:, target_class].reshape(augmented_images.shape[:2])\n",
    "\n",
    "print('Mean test prediction: {:4f}, target predicted {} out of {}.'.format(generalization.mean(), np.sum(generalization > 0.5), generalization.size))\n",
    "\n",
    "leaderboard = np.flip(np.argsort(filtered_objectives[:,1]), 0)"
   ]
  },
  {
   "cell_type": "code",
   "execution_count": null,
   "metadata": {},
   "outputs": [],
   "source": [
    "%matplotlib ipympl\n",
    "\n",
    "fig, ax = plt.subplots(8, 8, figsize=(8, 8))\n",
    "\n",
    "for i in range(64):\n",
    "    if i > len(filtered_individuals):\n",
    "        break\n",
    "    \n",
    "    ax[i // 8, i % 8].axis('off')\n",
    "    ax[i // 8, i % 8].imshow(filtered_individuals[i], cmap='plasma', vmin=-0.2, vmax=0.2)"
   ]
  },
  {
   "cell_type": "code",
   "execution_count": null,
   "metadata": {},
   "outputs": [],
   "source": [
    "%matplotlib ipympl\n",
    "\n",
    "compare_fig, compare_ax = plt.subplots(1, 3, figsize=(9, 3))\n",
    "compare_fig.tight_layout()"
   ]
  },
  {
   "cell_type": "code",
   "execution_count": null,
   "metadata": {},
   "outputs": [],
   "source": [
    "individual_i = leaderboard[0]\n",
    "image_i = 0\n",
    "\n",
    "compare_ax[0].imshow(dataset[image_i], cmap='gray', vmin=0, vmax=1)\n",
    "compare_ax[1].imshow(filtered_individuals[individual_i], cmap='plasma', vmin=-1, vmax=1)\n",
    "compare_ax[2].imshow(augmented_images[individual_i, image_i][:,:,0], cmap='gray', vmin=0, vmax=1)\n",
    "\n",
    "compare_fig.canvas.set_window_title('Target score: {}'.format(\n",
    "    model(augmented_images[individual_i, image_i])[0, target_class]\n",
    "))\n",
    "compare_fig.canvas.draw()"
   ]
  },
  {
   "cell_type": "markdown",
   "metadata": {},
   "source": [
    "### TODO ###\n",
    "- make some nice GUI, widgets etc., notebook/lab compatibility?"
   ]
  },
  {
   "cell_type": "code",
   "execution_count": null,
   "metadata": {},
   "outputs": [],
   "source": []
  }
 ],
 "metadata": {
  "kernelspec": {
   "display_name": "Python 3",
   "language": "python",
   "name": "python3"
  },
  "language_info": {
   "codemirror_mode": {
    "name": "ipython",
    "version": 3
   },
   "file_extension": ".py",
   "mimetype": "text/x-python",
   "name": "python",
   "nbconvert_exporter": "python",
   "pygments_lexer": "ipython3",
   "version": "3.6.5"
  }
 },
 "nbformat": 4,
 "nbformat_minor": 2
}
