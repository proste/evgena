{
 "cells": [
  {
   "cell_type": "code",
   "execution_count": 1,
   "metadata": {},
   "outputs": [
    {
     "name": "stdout",
     "output_type": "stream",
     "text": [
      "/home/proste/mff/evgena\n"
     ]
    }
   ],
   "source": [
    "%cd .."
   ]
  },
  {
   "cell_type": "code",
   "execution_count": 3,
   "metadata": {},
   "outputs": [],
   "source": [
    "import matplotlib.pyplot as plt\n",
    "import numpy as np\n",
    "import struct\n",
    "\n",
    "from evgena.utils.large_files import file_sha256, maybe_download"
   ]
  },
  {
   "cell_type": "code",
   "execution_count": 4,
   "metadata": {},
   "outputs": [],
   "source": [
    "def read_header(fp):\n",
    "    # read header\n",
    "    magic, type_code, dim_count = struct.unpack('>HBB', fp.read(4))\n",
    "\n",
    "    # check magic\n",
    "    if magic != 0:\n",
    "        raise ValueError('invalid magic number; expected: 0, found: {!r}'.format(magic))\n",
    "\n",
    "    # construct shape from header\n",
    "    shape = struct.unpack('>' + 'i' * dim_count, fp.read(4 * dim_count))\n",
    "\n",
    "    return magic, type_code, dim_count, shape\n",
    "\n",
    "def type_code_to_dtype(type_code: int) -> np.dtype:\n",
    "    if type_code == 0x08:\n",
    "        return np.dtype('B')\n",
    "    elif type_code == 0x09:\n",
    "        return np.dtype('b')\n",
    "    elif type_code == 0x0B:\n",
    "        return np.dtype('>i2')\n",
    "    elif type_code == 0x0C:\n",
    "        return np.dtype('>i4')\n",
    "    elif type_code == 0x0D:\n",
    "        return np.dtype('>f4')\n",
    "    elif type_code == 0x0E:\n",
    "        return np.dtype('>f8')\n",
    "    else:\n",
    "        raise ValueError('invalid type code; found {!r}'.format(type_code))\n",
    "        \n",
    "def to_ndarray(path):\n",
    "    with open(path, 'rb') as file:\n",
    "        # read in fixed part of header\n",
    "        magic, type_code, dim_count, shape = read_header(file)\n",
    "\n",
    "        # load data, reshape, change endianess\n",
    "        array = np.fromfile(file, dtype=type_code_to_dtype(type_code))\n",
    "        array = np.reshape(array, shape)\n",
    "        return array.byteswap(True)"
   ]
  },
  {
   "cell_type": "markdown",
   "metadata": {},
   "source": [
    "## Initialization\n",
    "- define `dataset_source_dir` - the directory with standart MNIST formatted dataset\n",
    "- define `dataset_target_path` - path where to store converted dataset .npz\n",
    "- define `synset` - array when indexed with labels yielding corresponding names\n",
    "- optionally define metadata - license, source etc."
   ]
  },
  {
   "cell_type": "code",
   "execution_count": 47,
   "metadata": {},
   "outputs": [],
   "source": [
    "dataset_source_dir = 'datasets/fashion_mnist/'\n",
    "dataset_target_path = 'datasets/fashion_mnist.npz'\n",
    "\n",
    "synset = np.array([\n",
    "    'T-shirt/top',\n",
    "    'Trouser',\n",
    "    'Pullover',\n",
    "    'Dress',\n",
    "    'Coat',\n",
    "    'Sandal',\n",
    "    'Shirt',\n",
    "    'Sneaker',\n",
    "    'Bag',\n",
    "    'Ankle boot'\n",
    "])\n",
    "\n",
    "metadata = {\n",
    "    'license': np.array([\"\"\"The MIT License (MIT) Copyright © 2017 Zalando SE, https://tech.zalando.com\n",
    "\n",
    "Permission is hereby granted, free of charge, to any person obtaining a copy of this software and associated documentation files (the “Software”), to deal in the Software without restriction, including without limitation the rights to use, copy, modify, merge, publish, distribute, sublicense, and/or sell copies of the Software, and to permit persons to whom the Software is furnished to do so, subject to the following conditions:\n",
    "\n",
    "The above copyright notice and this permission notice shall be included in all copies or substantial portions of the Software.\n",
    "\n",
    "THE SOFTWARE IS PROVIDED “AS IS”, WITHOUT WARRANTY OF ANY KIND, EXPRESS OR IMPLIED, INCLUDING BUT NOT LIMITED TO THE WARRANTIES OF MERCHANTABILITY, FITNESS FOR A PARTICULAR PURPOSE AND NONINFRINGEMENT. IN NO EVENT SHALL THE AUTHORS OR COPYRIGHT HOLDERS BE LIABLE FOR ANY CLAIM, DAMAGES OR OTHER LIABILITY, WHETHER IN AN ACTION OF CONTRACT, TORT OR OTHERWISE, ARISING FROM, OUT OF OR IN CONNECTION WITH THE SOFTWARE OR THE USE OR OTHER DEALINGS IN THE SOFTWARE.\"\"\"\n",
    "]),\n",
    "    'source': np.array(['https://github.com/zalandoresearch/fashion-mnist'])\n",
    "}"
   ]
  },
  {
   "cell_type": "markdown",
   "metadata": {},
   "source": [
    "## Load MNIST like dataset"
   ]
  },
  {
   "cell_type": "code",
   "execution_count": 48,
   "metadata": {},
   "outputs": [
    {
     "name": "stdout",
     "output_type": "stream",
     "text": [
      "Converting MNIST like dataset from datasets/fashion_mnist.npz to datasets/fashion_mnist.npz\n",
      "\tloading train_X from: datasets/fashion_mnist/train-images-idx3-ubyte; shape: (60000, 28, 28)\n",
      "\tloading train_X from: datasets/fashion_mnist/train-labels-idx1-ubyte; shape: (60000,)\n",
      "\tloading train_X from: datasets/fashion_mnist/t10k-images-idx3-ubyte; shape: (10000, 28, 28)\n",
      "\tloading train_X from: datasets/fashion_mnist/t10k-labels-idx1-ubyte; shape: (10000,)\n",
      "Normalizing images to [0.0,1.0] float32\n"
     ]
    }
   ],
   "source": [
    "print('Converting MNIST like dataset from {source} to {target}'.format(\n",
    "    source=dataset_target_path, target=dataset_target_path\n",
    "))\n",
    "\n",
    "train_X_path = dataset_source_dir + 'train-images-idx3-ubyte'\n",
    "train_y_path = dataset_source_dir + 'train-labels-idx1-ubyte'\n",
    "test_X_path = dataset_source_dir + 't10k-images-idx3-ubyte'\n",
    "test_y_path = dataset_source_dir + 't10k-labels-idx1-ubyte'\n",
    "\n",
    "print('\\tloading train_X from: {}'.format(train_X_path), end='')\n",
    "train_X = to_ndarray(train_X_path)\n",
    "print('; shape: {}'.format(train_X.shape))\n",
    "print('\\tloading train_X from: {}'.format(train_y_path), end='')\n",
    "train_y = to_ndarray(train_y_path)\n",
    "print('; shape: {}'.format(train_y.shape))\n",
    "print('\\tloading train_X from: {}'.format(test_X_path), end='')\n",
    "test_X = to_ndarray(test_X_path)\n",
    "print('; shape: {}'.format(test_X.shape))\n",
    "print('\\tloading train_X from: {}'.format(test_y_path), end='')\n",
    "test_y = to_ndarray(test_y_path)\n",
    "print('; shape: {}'.format(test_y.shape))\n",
    "\n",
    "assert train_X.shape[1:] == test_X.shape[1:],\\\n",
    "    'Example shape mismatch between train and test set'\n",
    "\n",
    "print('Normalizing images to [0.0,1.0] float32')\n",
    "train_X = train_X.astype('f4') / 255.\n",
    "test_X = test_X.astype('f4') / 255."
   ]
  },
  {
   "cell_type": "markdown",
   "metadata": {},
   "source": [
    "## Save NPrecord dataset\n",
    "- at this point you can optionally modify loaded dataset - change shapes, restructure splits etc."
   ]
  },
  {
   "cell_type": "code",
   "execution_count": 60,
   "metadata": {},
   "outputs": [
    {
     "name": "stdout",
     "output_type": "stream",
     "text": [
      "Writing dataset to datasets/fashion_mnist.npz\n",
      "\n",
      "Dataset checksum: f6ed33b2819f8aaa4347c79c2909b60a57804a3b2048a4561fbdb73fb5632605\n"
     ]
    }
   ],
   "source": [
    "example_type = np.dtype([('X', 'f4', train_X.shape[1:]), ('y', 'B')])\n",
    "\n",
    "train = np.rec.fromarrays((train_X, train_y), dtype=example_type)\n",
    "test = np.rec.fromarrays((test_X, test_y), dtype=example_type)\n",
    "\n",
    "print('Writing dataset to {}'.format(dataset_target_path))\n",
    "np.savez(dataset_target_path, train=train, test=test, synset=synset, **metadata)\n",
    "\n",
    "print('\\nDataset checksum: {}'.format(file_sha256(dataset_target_path)))"
   ]
  },
  {
   "cell_type": "markdown",
   "metadata": {},
   "source": [
    "## Test converted dataset"
   ]
  },
  {
   "cell_type": "code",
   "execution_count": 66,
   "metadata": {},
   "outputs": [],
   "source": [
    "dataset = np.load(dataset_target_path)\n",
    "load_train = dataset['train'].view(np.recarray)\n",
    "load_test = dataset['test'].view(np.recarray)\n",
    "load_synset = dataset['synset']"
   ]
  },
  {
   "cell_type": "code",
   "execution_count": 59,
   "metadata": {},
   "outputs": [
    {
     "data": {
      "text/plain": [
       "<matplotlib.image.AxesImage at 0x7f9a34cc7208>"
      ]
     },
     "execution_count": 59,
     "metadata": {},
     "output_type": "execute_result"
    },
    {
     "data": {
      "image/png": "[encoded data removed]",
      "text/plain": [
       "<matplotlib.figure.Figure at 0x7f9a34b501d0>"
      ]
     },
     "metadata": {},
     "output_type": "display_data"
    }
   ],
   "source": [
    "index = 0\n",
    "\n",
    "fig, ax = plt.subplots(ncols=2, figsize=(10,6))\n",
    "fig.tight_layout()\n",
    "\n",
    "ax[0].set_title('Label: {l} - {s}'.format(l=train.y[index], s=synset[train.y[index]]))\n",
    "ax[0].imshow(train.X[index], cmap='gray')\n",
    "\n",
    "ax[1].set_title('Label: {l} - {s}'.format(l=load_train.y[index], s=synset[load_train.y[index]]))\n",
    "ax[1].imshow(load_train.X[index], cmap='gray')"
   ]
  },
  {
   "cell_type": "code",
   "execution_count": null,
   "metadata": {},
   "outputs": [],
   "source": []
  }
 ],
 "metadata": {
  "kernelspec": {
   "display_name": "Python 3",
   "language": "python",
   "name": "python3"
  },
  "language_info": {
   "codemirror_mode": {
    "name": "ipython",
    "version": 3
   },
   "file_extension": ".py",
   "mimetype": "text/x-python",
   "name": "python",
   "nbconvert_exporter": "python",
   "pygments_lexer": "ipython3",
   "version": "3.6.4"
  }
 },
 "nbformat": 4,
 "nbformat_minor": 2
}
