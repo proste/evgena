{
 "cells": [
  {
   "cell_type": "code",
   "execution_count": null,
   "metadata": {},
   "outputs": [],
   "source": [
    "%cd ..\n",
    "\n",
    "%load_ext line_profiler\n",
    "from IPython.core.debugger import set_trace"
   ]
  },
  {
   "cell_type": "code",
   "execution_count": null,
   "metadata": {},
   "outputs": [],
   "source": [
    "from genetals.core import *\n",
    "from genetals.callbacks import GAStatus, MultiObjectiveReport\n",
    "from genetals.operators import TwoPointXover, BiasedMutation, ShuffleOperator, NSGAOperator\n",
    "from genetals.initializers import RandomStdInit\n",
    "from evgena.datasets import load_emnist, load_mnist, load_nprecord\n",
    "from evgena.models import TfModel\n",
    "from evgena.metrics import SSIM\n",
    "from evgena.utils.large_files import maybe_download\n",
    "\n",
    "import numpy as np\n",
    "import tensorflow as tf\n",
    "import matplotlib.pyplot as plt"
   ]
  },
  {
   "cell_type": "code",
   "execution_count": null,
   "metadata": {},
   "outputs": [],
   "source": [
    "class MultiSigmaRandomStdInit(InitializerBase):\n",
    "    def __init__(self, individual_shape, sigmas = (1,), mu: np.ndarray = 0):\n",
    "        super(MultiSigmaRandomStdInit, self).__init__()\n",
    "\n",
    "        self._individual_shape = individual_shape\n",
    "        self._sigmas = sigmas\n",
    "        self._mu = mu\n",
    "\n",
    "    def __call__(self, population_size: int, *args, **kwargs) -> np.ndarray:\n",
    "        result = np.random.random((population_size,) + tuple(self._individual_shape))\n",
    "\n",
    "        split_size = (population_size + (len(self._sigmas) - 1)) // len(self._sigmas)\n",
    "        for i, split_begin in enumerate(range(0, population_size, split_size)):\n",
    "            result[split_begin:split_begin+split_size] *= self._sigmas[i]\n",
    "            \n",
    "        return self._mu + result"
   ]
  },
  {
   "cell_type": "code",
   "execution_count": null,
   "metadata": {},
   "outputs": [],
   "source": [
    "class PrePopulationInit(InitializerBase):\n",
    "    def __init__(self, prepopulation):\n",
    "        super(PrePopulationInit, self).__init__()\n",
    "\n",
    "        self._prepopulation = prepopulation\n",
    "\n",
    "    def __call__(self, population_size: int, *args, **kwargs) -> np.ndarray:\n",
    "        assert population_size == len(self._prepopulation), 'Wrong pop size'  # TODO maybe tile or so\n",
    "        \n",
    "        return self._prepopulation"
   ]
  },
  {
   "cell_type": "code",
   "execution_count": null,
   "metadata": {},
   "outputs": [],
   "source": [
    "class Images2LabelObjectiveFnc(ObjectiveFncBase):\n",
    "    def __init__(self, model: Model, target_label: int, source_images: np.ndarray, sample_size: int = 16):\n",
    "        super(Images2LabelObjectiveFnc, self).__init__()\n",
    "        \n",
    "        self._ssim = SSIM()\n",
    "        self._model = model\n",
    "        self._target_label = target_label\n",
    "        self._source_images = source_images\n",
    "        self._sample_size = sample_size\n",
    "        self._source_i = 0\n",
    "      \n",
    "    def __call__(self, individuals: np.ndarray) -> np.ndarray:\n",
    "        # get indices of images\n",
    "        # same batch for each individual\n",
    "        u_bound = self._source_i + self._sample_size\n",
    "        if u_bound <= len(self._source_images):\n",
    "            images = self._source_images[self._source_i:u_bound]\n",
    "            self._source_i = u_bound\n",
    "        else:\n",
    "            images = np.concatenate((self._source_images[self._source_i:], self._source_images[:u_bound - len(self._source_images)]))\n",
    "            self._source_i = u_bound - len(self._source_images)  # TODO reshuffle?\n",
    "        \n",
    "        augmented_images = images + np.expand_dims(individuals, 1)\n",
    "        augmented_images_batch_shaped = augmented_images.reshape(-1, *augmented_images.shape[2:], 1)\n",
    "        \n",
    "        # augment random batch with various individuals\n",
    "        # TODO\n",
    "        \n",
    "        # for each individual sample its predictions, copmute ssim mean ssim\n",
    "        norms = self._ssim(augmented_images_batch_shaped, np.expand_dims(images, 0).repeat(len(individuals), axis=0).reshape(-1, *augmented_images.shape[2:], 1))\n",
    "        norms = norms.reshape(augmented_images.shape[:2])\n",
    "        logits = model(augmented_images.reshape((-1,) + augmented_images.shape[2:] + (1,)))[:, self._target_label]\n",
    "        logits = logits.reshape(augmented_images.shape[:2])\n",
    "                       \n",
    "        avg_norms = np.average(norms, axis=-1)\n",
    "        avg_logits = np.average(logits, axis=-1)\n",
    "        \n",
    "        # create array by merging columns\n",
    "        return np.stack((avg_logits, avg_norms), axis=-1)"
   ]
  },
  {
   "cell_type": "code",
   "execution_count": null,
   "metadata": {},
   "outputs": [],
   "source": [
    "model = TfModel('models/fashion_mnist_cnn/model', 'end_points/images', 'end_points/scores', batch_size=8192)\n",
    "\n",
    "train, test, synset, metadata = load_nprecord('fashion_mnist.npz')"
   ]
  },
  {
   "cell_type": "code",
   "execution_count": null,
   "metadata": {},
   "outputs": [],
   "source": [
    "source_class = 0\n",
    "target_class = 5\n",
    "images = train.X[train.y == source_class]"
   ]
  },
  {
   "cell_type": "code",
   "execution_count": null,
   "metadata": {},
   "outputs": [],
   "source": [
    "graph = OperatorGraph()\n",
    "\n",
    "select_op = ShuffleOperator(graph.init_op)\n",
    "xover_op = TwoPointXover(select_op, 0.6)\n",
    "mutation_op = BiasedMutation(xover_op, sigma=0.1, l_bound=-1.0, u_bound=1.0)\n",
    "moea_op = NSGAOperator(graph.init_op, mutation_op)"
   ]
  },
  {
   "cell_type": "code",
   "execution_count": null,
   "metadata": {
    "scrolled": false
   },
   "outputs": [],
   "source": [
    "%matplotlib notebook\n",
    "\n",
    "fig, ax = plt.subplots(1, 1, figsize=(10,5))\n",
    "# fig.tight_layout()\n",
    "\n",
    "ax.set_xlim(0.0000000000000001, 1)\n",
    "ax.set_xlabel('Target class prediction probability')\n",
    "ax.set_ylim(0.6, 1)\n",
    "ax.set_ylabel('mean SSIM')\n",
    "ax.set_xscale('log')\n",
    "ax.grid(axis='both')\n",
    "ax.vlines(0.5, 0, 1, colors='g')\n",
    "\n",
    "callbacks = [GAStatus(fig), MultiObjectiveReport(ax)]"
   ]
  },
  {
   "cell_type": "markdown",
   "metadata": {},
   "source": [
    "- better initialization - continuous sigma\n",
    "- exponential time to live for samples\n",
    "- ga.run continue easily\n",
    "- proper mechanism and standardized format for ga run result storing\n",
    "- callback for intermediate individual checking\n",
    "- persisting ga and run\n",
    "- clipping out of `[0,1]` bounds values"
   ]
  },
  {
   "cell_type": "code",
   "execution_count": null,
   "metadata": {},
   "outputs": [],
   "source": [
    "objFnc = Images2LabelObjectiveFnc(model, target_class, images[:64], sample_size=64)"
   ]
  },
  {
   "cell_type": "code",
   "execution_count": null,
   "metadata": {},
   "outputs": [],
   "source": [
    "ga = GeneticAlgorithm(\n",
    "#     initializer=PrePopulationInit(first_run[0].individuals),\n",
    "    initializer=MultiSigmaRandomStdInit((28, 28), [0.1, 0.2, 0.4]), # TODO population splits with different sigma\n",
    "    operator_graph=graph,\n",
    "    objective_fnc=objFnc, # TODO next sample overlaps with last sample, exponential time to live / or subset of dataset\n",
    "    callbacks=callbacks\n",
    ")"
   ]
  },
  {
   "cell_type": "code",
   "execution_count": null,
   "metadata": {},
   "outputs": [],
   "source": [
    "%time final_pop, fitnesses, objectives = ga.run(population_size=512, generation_cap=256)"
   ]
  },
  {
   "cell_type": "code",
   "execution_count": null,
   "metadata": {},
   "outputs": [],
   "source": [
    "first_run = final_pop, fitnesses, objectives"
   ]
  },
  {
   "cell_type": "code",
   "execution_count": null,
   "metadata": {},
   "outputs": [],
   "source": [
    "objectives[-1, :, 0].argmax()"
   ]
  },
  {
   "cell_type": "code",
   "execution_count": null,
   "metadata": {},
   "outputs": [],
   "source": [
    "objectives[-1, :, 1][objectives[-1, :, 0] > 0.5].argmax()"
   ]
  },
  {
   "cell_type": "code",
   "execution_count": null,
   "metadata": {},
   "outputs": [],
   "source": [
    "np.where(objectives[-1, :, 0] > 0.5)[0][30]"
   ]
  },
  {
   "cell_type": "code",
   "execution_count": null,
   "metadata": {},
   "outputs": [],
   "source": [
    "objectives.shape"
   ]
  },
  {
   "cell_type": "code",
   "execution_count": null,
   "metadata": {},
   "outputs": [],
   "source": [
    "generalization = model(images[64:] + final_pop.individuals[108])[:, target_class]"
   ]
  },
  {
   "cell_type": "code",
   "execution_count": null,
   "metadata": {},
   "outputs": [],
   "source": [
    "np.sum(generalization > 0.5)"
   ]
  },
  {
   "cell_type": "code",
   "execution_count": null,
   "metadata": {},
   "outputs": [],
   "source": [
    "%matplotlib notebook\n",
    "\n",
    "individual_i = 108\n",
    "image_i = 0\n",
    "\n",
    "compare_fig, compare_ax = plt.subplots(1, 3, figsize=(13, 6))\n",
    "compare_ax[0].imshow(images[image_i], cmap='gray', vmin=0, vmax=1)\n",
    "compare_ax[1].imshow(final_pop.individuals[individual_i], cmap='gray', vmin=0, vmax=1)\n",
    "compare_ax[2].imshow(images[image_i] + final_pop.individuals[individual_i], cmap='gray', vmin=0, vmax=1)"
   ]
  },
  {
   "cell_type": "code",
   "execution_count": null,
   "metadata": {},
   "outputs": [],
   "source": [
    "model(np.reshape(final_pop.individuals[45] + images[4472], (-1, 28, 28, 1)))"
   ]
  },
  {
   "cell_type": "code",
   "execution_count": null,
   "metadata": {},
   "outputs": [],
   "source": [
    "target_scores = model(np.reshape(final_pop.individuals[45] + images[:32], (-1, 28, 28, 1)))[:, target_class]"
   ]
  },
  {
   "cell_type": "code",
   "execution_count": null,
   "metadata": {},
   "outputs": [],
   "source": [
    "target_scores[2]"
   ]
  },
  {
   "cell_type": "code",
   "execution_count": null,
   "metadata": {},
   "outputs": [],
   "source": [
    "%matplotlib notebook\n",
    "\n",
    "fig, ax = plt.subplots(8, 8, figsize=(10, 10))\n",
    "fig.tight_layout()"
   ]
  },
  {
   "cell_type": "code",
   "execution_count": null,
   "metadata": {},
   "outputs": [],
   "source": [
    "for i in range(64):\n",
    "    ax[i // 8, i % 8].axis('off')\n",
    "    ax[i // 8, i % 8].imshow(final_pop.individuals[i])\n",
    "# plt.axisi"
   ]
  }
 ],
 "metadata": {
  "kernelspec": {
   "display_name": "Python 3",
   "language": "python",
   "name": "python3"
  },
  "language_info": {
   "codemirror_mode": {
    "name": "ipython",
    "version": 3
   },
   "file_extension": ".py",
   "mimetype": "text/x-python",
   "name": "python",
   "nbconvert_exporter": "python",
   "pygments_lexer": "ipython3",
   "version": "3.6.4"
  }
 },
 "nbformat": 4,
 "nbformat_minor": 2
}
