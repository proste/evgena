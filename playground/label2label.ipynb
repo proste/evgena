{
 "cells": [
  {
   "cell_type": "code",
   "execution_count": null,
   "metadata": {},
   "outputs": [],
   "source": [
    "%cd ..\n",
    "\n",
    "%load_ext line_profiler\n",
    "from IPython.core.debugger import set_trace"
   ]
  },
  {
   "cell_type": "code",
   "execution_count": null,
   "metadata": {},
   "outputs": [],
   "source": [
    "from genetals.core import *\n",
    "from genetals.callbacks import GAStatus, MultiObjectiveReport\n",
    "from genetals.operators import TwoPointXover, BiasedMutation, ShuffleOperator, NSGAOperator\n",
    "from genetals.initializers import RandomStdInit\n",
    "from evgena.datasets import load_emnist, load_mnist, load_nprecord\n",
    "from evgena.models import Model, TfModel\n",
    "from evgena.metrics import SSIM\n",
    "from evgena.utils.large_files import maybe_download\n",
    "\n",
    "import numpy as np\n",
    "import tensorflow as tf\n",
    "import matplotlib.pyplot as plt"
   ]
  },
  {
   "cell_type": "code",
   "execution_count": null,
   "metadata": {},
   "outputs": [],
   "source": [
    "class BestImgReport(CallbackBase):\n",
    "    def __init__(self, ax: plt.Axes = None, best_picker = None):\n",
    "        super(BestImgReport, self).__init__()\n",
    "        \n",
    "        if ax is None:\n",
    "            self._fig, self._ax = plt.subplots(1, 1)\n",
    "        else:\n",
    "            self._fig, self._ax = ax.figure, ax\n",
    "        \n",
    "        self._best_picker = (lambda fitness: fitness.argmax()) if (best_picker is None) else best_picker\n",
    "        \n",
    "    def __call__(self, ga: GeneticAlgorithm) -> None:\n",
    "        offspring = ga.capture(-1)\n",
    "        best_i = self._best_picker(offspring.fitnesses)\n",
    "        \n",
    "        self._ax.imshow(offspring.individuals[best_i], cmap='plasma', vmin=-1, vmax=1)"
   ]
  },
  {
   "cell_type": "code",
   "execution_count": null,
   "metadata": {},
   "outputs": [],
   "source": [
    "class MultiSigmaRandomInit(InitializerBase):\n",
    "    def __init__(self, individual_shape, sigmas = (1,), mu: np.ndarray = 0):\n",
    "        super(MultiSigmaRandomInit, self).__init__()\n",
    "\n",
    "        self._individual_shape = individual_shape\n",
    "        self._sigmas = sigmas\n",
    "        self._mu = mu\n",
    "\n",
    "    def __call__(self, population_size: int, *args, **kwargs) -> np.ndarray:\n",
    "        sigmas = np.tile(self._sigmas, (population_size + (len(self._sigmas) - 1)) // len(self._sigmas))[:population_size]\n",
    "        result = (np.random.random((population_size,) + tuple(self._individual_shape)) * 2) - 1\n",
    "\n",
    "        return self._mu + result * sigmas[:population_size].reshape(population_size, *([1] * len(self._individual_shape)))"
   ]
  },
  {
   "cell_type": "code",
   "execution_count": null,
   "metadata": {},
   "outputs": [],
   "source": [
    "class PrePopulationInit(InitializerBase):\n",
    "    def __init__(self, prepopulation):\n",
    "        super(PrePopulationInit, self).__init__()\n",
    "\n",
    "        self._prepopulation = prepopulation\n",
    "\n",
    "    def __call__(self, population_size: int, *args, **kwargs) -> np.ndarray:\n",
    "        assert population_size == len(self._prepopulation), 'Wrong pop size'  # TODO maybe tile or so\n",
    "        \n",
    "        return self._prepopulation"
   ]
  },
  {
   "cell_type": "code",
   "execution_count": null,
   "metadata": {},
   "outputs": [],
   "source": [
    "class Images2LabelObjectiveFnc(ObjectiveFncBase):\n",
    "    def __init__(self, model: Model, target_label: int, source_images: np.ndarray, sample_size: int = 64, sample_ttl: float = 0.9, shuffle: bool = True):\n",
    "        super(Images2LabelObjectiveFnc, self).__init__()\n",
    "        \n",
    "        self._ssim = SSIM()\n",
    "        self._model = model\n",
    "        self._target_label = target_label\n",
    "        self._source_images = source_images\n",
    "        self._sample_size = sample_size\n",
    "        self._sample_ttl = sample_ttl\n",
    "        self._shuffle_source = shuffle\n",
    "        \n",
    "        if self._shuffle_source:\n",
    "            self._source_index = np.random.permutation(len(self._source_images))\n",
    "        else:\n",
    "            self._source_index = np.arange(len(self._source_images))\n",
    "        \n",
    "        self._samples = np.recarray((self._sample_size,), dtype=[('index', np.int32), ('ttl', np.float32)])\n",
    "        self._samples.index = np.arange(self._sample_size)\n",
    "        self._samples.ttl = 1\n",
    "        \n",
    "        self._source_i = self._sample_size\n",
    "      \n",
    "    def __call__(self, individuals: np.ndarray) -> np.ndarray:\n",
    "        # fetch samples\n",
    "        images = self._source_images[self._source_index[self._samples.index]]\n",
    "        \n",
    "        # resolve ttl of samples\n",
    "        self._samples.ttl *= self._sample_ttl\n",
    "        death_mask = self._samples.ttl < np.random.random(len(self._samples))\n",
    "        \n",
    "        u_source_i = self._source_i + np.sum(death_mask)\n",
    "        if  u_source_i > len(self._source_images):\n",
    "            u_source_i -= len(self._source_images)\n",
    "            babies = np.concatenate((np.arange(self._source_i, len(self._source_images)), np.arange(u_source_i)))\n",
    "            np.random.shuffle(self._source_index)\n",
    "        else:\n",
    "            babies = np.arange(self._source_i, u_source_i)\n",
    "        self._source_i = u_source_i\n",
    "        \n",
    "        self._samples.index[death_mask] = babies\n",
    "        self._samples.ttl[death_mask] = 1\n",
    "        \n",
    "        # augment images\n",
    "        augmented_images = images + np.expand_dims(individuals, 1)\n",
    "        np.clip(augmented_images, 0, 1, out=augmented_images)\n",
    "        augmented_images_batch_shaped = augmented_images.reshape(-1, *augmented_images.shape[2:], 1)\n",
    "        \n",
    "        # for each individual sample its predictions, copmute ssim mean ssim\n",
    "        norms = self._ssim(augmented_images_batch_shaped, np.expand_dims(images, 0).repeat(len(individuals), axis=0).reshape(-1, *augmented_images.shape[2:], 1))\n",
    "        norms = norms.reshape(augmented_images.shape[:2])\n",
    "        logits = model(augmented_images.reshape((-1,) + augmented_images.shape[2:] + (1,)))[:, self._target_label]\n",
    "        logits = logits.reshape(augmented_images.shape[:2])\n",
    "                       \n",
    "        avg_norms = np.average(norms, axis=-1)\n",
    "        avg_logits = np.average(logits, axis=-1)\n",
    "        \n",
    "        # create array by merging columns\n",
    "        return np.stack((avg_logits, avg_norms), axis=-1)"
   ]
  },
  {
   "cell_type": "code",
   "execution_count": null,
   "metadata": {},
   "outputs": [],
   "source": [
    "model = TfModel('models/fashion_mnist_cnn/model', 'end_points/images', 'end_points/scores', batch_size=8192)\n",
    "\n",
    "train, test, synset, metadata = load_nprecord('fashion_mnist.npz')"
   ]
  },
  {
   "cell_type": "code",
   "execution_count": null,
   "metadata": {},
   "outputs": [],
   "source": [
    "source_class = 0\n",
    "target_class = 5\n",
    "images = train.X[train.y == source_class]"
   ]
  },
  {
   "cell_type": "code",
   "execution_count": null,
   "metadata": {},
   "outputs": [],
   "source": [
    "graph = OperatorGraph()\n",
    "\n",
    "select_op = ShuffleOperator(graph.init_op)\n",
    "xover_op = TwoPointXover(select_op, 0.6)\n",
    "mutation_op = BiasedMutation(xover_op, sigma=0.1, l_bound=-1.0, u_bound=1.0)\n",
    "moea_op = NSGAOperator(graph.init_op, mutation_op)"
   ]
  },
  {
   "cell_type": "code",
   "execution_count": null,
   "metadata": {
    "scrolled": false
   },
   "outputs": [],
   "source": [
    "%matplotlib notebook\n",
    "\n",
    "fig, ax = plt.subplots(1, 1, figsize=(10,5))\n",
    "# fig.tight_layout()\n",
    "\n",
    "ax.set_xlim(0.0000000000000001, 1)\n",
    "ax.set_xlabel('Target class prediction probability')\n",
    "ax.set_ylim(-1, 1)\n",
    "ax.set_ylabel('mean SSIM')\n",
    "ax.set_xscale('log')\n",
    "ax.grid(axis='both')\n",
    "ax.vlines(0.5, -1, 1, colors='g')\n",
    "\n",
    "callbacks = [GAStatus(fig), MultiObjectiveReport(ax)] # TODO BestImgReport(ax[1], best_picker=lambda fit: np.argmax(np.sum(fit, axis=-1)))]"
   ]
  },
  {
   "cell_type": "markdown",
   "metadata": {},
   "source": [
    "- uniform vs std norm distributions??\n",
    "- ga.run continue easily\n",
    "- proper mechanism and standardized format for ga run result storing\n",
    "- callback for intermediate individual checking\n",
    "- persisting ga and run\n",
    "- clipping out of `[0,1]` bounds values (where? individuals `[-1,1]`)\n",
    "- ssim border sensitivity??"
   ]
  },
  {
   "cell_type": "code",
   "execution_count": null,
   "metadata": {},
   "outputs": [],
   "source": [
    "ga = GeneticAlgorithm(\n",
    "#     initializer=PrePopulationInit(first_run[0].individuals),\n",
    "    initializer=MultiSigmaRandomInit((28, 28), (np.exp(np.linspace(0, 5, 100)) - 1) / (np.exp(5) - 1)),\n",
    "    operator_graph=graph,\n",
    "    objective_fnc=Images2LabelObjectiveFnc(model, target_class, images, sample_size=64, sample_ttl = 0.95),\n",
    "    callbacks=callbacks\n",
    ")"
   ]
  },
  {
   "cell_type": "code",
   "execution_count": null,
   "metadata": {},
   "outputs": [],
   "source": [
    "%time final_pop, fitnesses, objectives = ga.run(population_size=512, generation_cap=256)"
   ]
  },
  {
   "cell_type": "code",
   "execution_count": null,
   "metadata": {},
   "outputs": [],
   "source": [
    "first_run = final_pop, fitnesses, objectives"
   ]
  },
  {
   "cell_type": "code",
   "execution_count": null,
   "metadata": {},
   "outputs": [],
   "source": [
    "prediction_bound = 0.5\n",
    "ssim_bound = 0.8\n",
    "\n",
    "filtered_indices, *_ = np.where(np.logical_and(final_pop.objectives[:, 0] > prediction_bound, final_pop.objectives[:, 1] > ssim_bound))\n",
    "filtered_individuals = final_pop.individuals[filtered_indices]\n",
    "filtered_objectives = final_pop.objectives[filtered_indices]"
   ]
  },
  {
   "cell_type": "code",
   "execution_count": null,
   "metadata": {},
   "outputs": [],
   "source": [
    "test_data = test.X[test.y == source_class]\n",
    "test_individuals = filtered_individuals\n",
    "\n",
    "augmented_images = test_data + np.expand_dims(test_individuals, 1)\n",
    "np.clip(augmented_images, 0, 1, out=augmented_images)\n",
    "augmented_images_batch_shaped = augmented_images.reshape(-1, *augmented_images.shape[2:4], 1)\n",
    "\n",
    "generalization = model(augmented_images_batch_shaped)[:, target_class].reshape(augmented_images.shape[:2])"
   ]
  },
  {
   "cell_type": "code",
   "execution_count": null,
   "metadata": {},
   "outputs": [],
   "source": [
    "generalization.mean()"
   ]
  },
  {
   "cell_type": "code",
   "execution_count": null,
   "metadata": {},
   "outputs": [],
   "source": [
    "np.sum(generalization > 0.5)"
   ]
  },
  {
   "cell_type": "code",
   "execution_count": null,
   "metadata": {},
   "outputs": [],
   "source": [
    "filtered_indices[filtered_objectives[:, 1].argmax()]"
   ]
  },
  {
   "cell_type": "code",
   "execution_count": null,
   "metadata": {},
   "outputs": [],
   "source": [
    "%matplotlib notebook\n",
    "\n",
    "individual_i = 141\n",
    "image_i = 0\n",
    "\n",
    "compare_fig, compare_ax = plt.subplots(1, 3, figsize=(13, 6))\n",
    "compare_ax[0].imshow(images[image_i], cmap='gray', vmin=0, vmax=1)\n",
    "compare_ax[1].imshow(final_pop.individuals[individual_i], cmap='plasma', vmin=-1, vmax=1)\n",
    "compare_ax[2].imshow(images[image_i] + final_pop.individuals[individual_i], cmap='gray', vmin=0, vmax=1)"
   ]
  },
  {
   "cell_type": "code",
   "execution_count": null,
   "metadata": {},
   "outputs": [],
   "source": [
    "%matplotlib notebook\n",
    "\n",
    "fig, ax = plt.subplots(8, 8, figsize=(10, 10))\n",
    "fig.tight_layout()"
   ]
  },
  {
   "cell_type": "code",
   "execution_count": null,
   "metadata": {},
   "outputs": [],
   "source": [
    "for i in range(64):\n",
    "    if i > len(filtered_individuals):\n",
    "        break\n",
    "    \n",
    "    ax[i // 8, i % 8].axis('off')\n",
    "    ax[i // 8, i % 8].imshow(filtered_individuals[i], cmap='plasma', vmin=-1, vmax=1)"
   ]
  },
  {
   "cell_type": "code",
   "execution_count": null,
   "metadata": {},
   "outputs": [],
   "source": []
  }
 ],
 "metadata": {
  "kernelspec": {
   "display_name": "Python 3",
   "language": "python",
   "name": "python3"
  },
  "language_info": {
   "codemirror_mode": {
    "name": "ipython",
    "version": 3
   },
   "file_extension": ".py",
   "mimetype": "text/x-python",
   "name": "python",
   "nbconvert_exporter": "python",
   "pygments_lexer": "ipython3",
   "version": "3.6.4"
  }
 },
 "nbformat": 4,
 "nbformat_minor": 2
}
