{
 "cells": [
  {
   "cell_type": "code",
   "execution_count": 2,
   "metadata": {},
   "outputs": [
    {
     "name": "stdout",
     "output_type": "stream",
     "text": [
      "/home/proste/mff/evgena\n"
     ]
    }
   ],
   "source": [
    "%cd .."
   ]
  },
  {
   "cell_type": "code",
   "execution_count": 4,
   "metadata": {},
   "outputs": [],
   "source": [
    "from evgena.ga.core import *"
   ]
  },
  {
   "cell_type": "code",
   "execution_count": 8,
   "metadata": {},
   "outputs": [
    {
     "name": "stderr",
     "output_type": "stream",
     "text": [
      "Using TensorFlow backend.\n"
     ]
    }
   ],
   "source": [
    "import numpy as np\n",
    "import tensorflow as tf\n",
    "import keras"
   ]
  },
  {
   "cell_type": "markdown",
   "metadata": {},
   "source": [
    "# TODO\n",
    "- initializer - random noise\n",
    "- xover - 2D 2 point\n",
    "- mutation - gaussian? simulated annealing?\n",
    "- objective - softmax value of desired output - maximizing, noise abs sum - minimizing\n",
    "- selection tournament?\n",
    "- ..."
   ]
  },
  {
   "cell_type": "code",
   "execution_count": 6,
   "metadata": {},
   "outputs": [],
   "source": [
    "class NoiseInitializer(InitializerBase):\n",
    "    def __init__(self, shape, sigma=1, mu=0):\n",
    "        super(NoiseInitializer, self).__init__()\n",
    "        \n",
    "        self._shape = shape\n",
    "        self._sigma = sigma\n",
    "        self._mu = mu\n",
    "        \n",
    "    def __call__(self, population_size, shape=None, sigma=None, mu=None, *args, **kwargs):\n",
    "        shape = self._shape if (shape is None) else shape\n",
    "        sigma = self._sigma if (sigma is None) else sigma\n",
    "        mu = self._mu if (mu is None) else mu\n",
    "        \n",
    "        return sigma * np.random.standard_normal(shape) + mu"
   ]
  },
  {
   "cell_type": "code",
   "execution_count": 7,
   "metadata": {},
   "outputs": [],
   "source": [
    "class BiasedMutation(OperatorBase):\n",
    "    def __init__(self, original_op, individual_mut_ratio=0.1, gene_mut_ratio=0.05, sigma=1, mu=0):\n",
    "        super(BiasedMutation, self).__init__(original_op)\n",
    "        \n",
    "        self._individual_mut_ratio = individual_mut_ratio\n",
    "        self._gene_mut_ratio = gene_mut_ratio\n",
    "        self._sigma = sigma\n",
    "        self._mu = mu\n",
    "        \n",
    "    def _operation(self, ga, *input_populations):\n",
    "        population = input_populations[0]\n",
    "        individuals = population.individuals\n",
    "        \n",
    "        mutant_count = int(population.size * self._individual_mut_ratio)\n",
    "        individual_size = np.prod(individuals.shape[1:])\n",
    "        gene_count = int(individual_size * self._gene_mut_ratio)\n",
    "        \n",
    "        mutant_index = np.random.choice(population.size, size=mutant_count, replace=False)\n",
    "        \n",
    "        gene_index = np.empty(shape=(mutant_count, gene_mut_size), dtype=np.int)\n",
    "        for row in range(individual_mut_size):\n",
    "            gene_index[row] = np.random.choice(individual_size, size=gene_count, replace=False)\n",
    "            \n",
    "        flat_index = (gene_index + mutant_index * individual_size).ravel()\n",
    "        shift = self._sigma * np.random.standard_normal(flat_index.size) + self._mu\n",
    "        \n",
    "        mutated = individuals.copy()\n",
    "        mutated.ravel()[flat_index] += shift\n",
    "        \n",
    "        return Population(mutated, ga)"
   ]
  },
  {
   "cell_type": "code",
   "execution_count": null,
   "metadata": {},
   "outputs": [],
   "source": [
    "# TODO tf model objective function combined with distance (table)\n",
    "class PyGAAObjectiveFnc(ObjectiveFncBase):\n",
    "    def __init__(self, )"
   ]
  },
  {
   "cell_type": "code",
   "execution_count": null,
   "metadata": {},
   "outputs": [],
   "source": [
    "# TODO fitness combining softmax with distance"
   ]
  },
  {
   "cell_type": "code",
   "execution_count": null,
   "metadata": {},
   "outputs": [],
   "source": [
    "# tournament selection?"
   ]
  }
 ],
 "metadata": {
  "kernelspec": {
   "display_name": "Python 3",
   "language": "python",
   "name": "python3"
  },
  "language_info": {
   "codemirror_mode": {
    "name": "ipython",
    "version": 3
   },
   "file_extension": ".py",
   "mimetype": "text/x-python",
   "name": "python",
   "nbconvert_exporter": "python",
   "pygments_lexer": "ipython3",
   "version": "3.6.3"
  }
 },
 "nbformat": 4,
 "nbformat_minor": 2
}
