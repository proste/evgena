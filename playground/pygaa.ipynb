{
 "cells": [
  {
   "cell_type": "code",
   "execution_count": null,
   "metadata": {},
   "outputs": [],
   "source": [
    "from IPython.core.display import display, HTML\n",
    "display(HTML(\"<style>.container { width:100% !important; }</style>\"))"
   ]
  },
  {
   "cell_type": "code",
   "execution_count": null,
   "metadata": {},
   "outputs": [],
   "source": [
    "%cd .."
   ]
  },
  {
   "cell_type": "code",
   "execution_count": null,
   "metadata": {},
   "outputs": [],
   "source": [
    "from evgena.ga.core import *\n",
    "from evgena.models import Model, KerasModel\n",
    "from evgena.ga.callbacks import GAStatus, BestImgReport, HistoryReport\n",
    "from evgena.ga.operators import TwoPointXover, BiasedMutation, TournamentSelection\n",
    "from evgena.ga.initializers import RandomStdInit\n",
    "from evgena.dataset import loader"
   ]
  },
  {
   "cell_type": "code",
   "execution_count": null,
   "metadata": {},
   "outputs": [],
   "source": [
    "import numpy as np\n",
    "import tensorflow as tf\n",
    "import keras\n",
    "import matplotlib.pyplot as plt\n",
    "from skimage.measure import compare_ssim as ssim"
   ]
  },
  {
   "cell_type": "code",
   "execution_count": null,
   "metadata": {},
   "outputs": [],
   "source": [
    "from IPython.core.debugger import set_trace"
   ]
  },
  {
   "cell_type": "markdown",
   "metadata": {},
   "source": [
    "# TODO\n",
    "- initializer - random noise\n",
    "- xover - 2D 2 point\n",
    "- mutation - gaussian? simulated annealing?\n",
    "- objective - softmax value of desired output - maximizing, noise abs sum - minimizing\n",
    "- selection tournament?\n",
    "- normalize images to floats (retrain model, change code)\n",
    "- ..."
   ]
  },
  {
   "cell_type": "code",
   "execution_count": null,
   "metadata": {},
   "outputs": [],
   "source": [
    "class ShuffleOperator(OperatorBase):\n",
    "    def __init__(self, input_op: OperatorBase):\n",
    "        super(ShuffleOperator, self).__init__(input_op)\n",
    "        \n",
    "    def _operation(self, ga: GeneticAlgorithm, *input_populations: Population):\n",
    "        input_pop = input_populations[0]\n",
    "        \n",
    "        output_individuals = np.random.permutation(input_pop.individuals)\n",
    "        \n",
    "        return Population(output_individuals, ga)"
   ]
  },
  {
   "cell_type": "code",
   "execution_count": null,
   "metadata": {},
   "outputs": [],
   "source": [
    "class NSGAOperator(OperatorBase):\n",
    "    def __init__(self, parents_op: OperatorBase, offspring_op: OperatorBase):\n",
    "        super(NSGAOperator, self).__init__(parents_op, offspring_op)\n",
    "        \n",
    "    def _operation(self, ga: GeneticAlgorithm, *input_populations: Population):\n",
    "        parents = input_populations[0]\n",
    "        offspring = input_populations[1]\n",
    "        \n",
    "        # merge parents with offspring\n",
    "        individuals = np.concatenate((parents.individuals, offspring.individuals))\n",
    "        fitnesses = np.concatenate((parents.fitnesses, offspring.fitnesses))\n",
    "        pool_size = len(individuals)\n",
    "        pop_size = parents.size\n",
    "        \n",
    "        fitnesses_count = fitnesses.shape[1]\n",
    "        fitnesses_rank_to_index = np.argsort(fitnesses, axis=0)\n",
    "        fitnesses_index_to_rank = np.argsort(fitnesses_rank_to_index, axis=0)\n",
    "\n",
    "        # find dominating and dominated\n",
    "        subs_indices = [None] * (pool_size)  # indices of individuals one is dominating\n",
    "        doms_count = np.empty(shape=pool_size, dtype=np.int)  # number of individuals one is dominated by\n",
    "\n",
    "        for i_i in range(pool_size):\n",
    "            # iteratively build dominating and dominated\n",
    "            i_rank = fitnesses_index_to_rank[i_i, 0]\n",
    "            subs = fitnesses_rank_to_index[:i_rank, 0]\n",
    "            doms = fitnesses_rank_to_index[i_rank + 1:, 0]\n",
    "            for f_i in range(1, fitnesses_count):\n",
    "                i_rank = fitnesses_index_to_rank[i_i, f_i]\n",
    "                subs = np.intersect1d(subs, fitnesses_rank_to_index[:i_rank, f_i], assume_unique=True)\n",
    "                doms = np.intersect1d(doms, fitnesses_rank_to_index[i_rank + 1:, f_i], assume_unique=True)\n",
    "\n",
    "            # assign dominating and dominated\n",
    "            subs_indices[i_i] = subs\n",
    "            doms_count[i_i] = len(doms)\n",
    "\n",
    "        # build non-dominated fronts\n",
    "        fronts = []  # list of fronts (indices of individuals per front)\n",
    "        choice_size = 0  # number of individuals chosen so far\n",
    "        while True:\n",
    "            # fetch non-dominated solutions\n",
    "            front_indices, *_ = np.where(doms_count == 0)\n",
    "\n",
    "            # keep front indices and update count of individuals chosen so far\n",
    "            fronts.append(front_indices)\n",
    "            choice_size += len(front_indices)\n",
    "\n",
    "\n",
    "            if choice_size >= pop_size:\n",
    "                break\n",
    "\n",
    "            # invalidate individuals for future loop executions\n",
    "            doms_count[front_indices] = -1\n",
    "\n",
    "            # remove current front\n",
    "            for i_i in range(len(front_indices)):\n",
    "                doms_count[subs_indices[front_indices[i_i]]] -= 1\n",
    "\n",
    "        # secondary sorting\n",
    "        if choice_size > pop_size:\n",
    "            # crowding-distance\n",
    "            last_front = fronts[-1]\n",
    "\n",
    "            normalised_distances = np.empty((len(last_front), fitnesses_count))\n",
    "            for f_i in range(fitnesses_count):\n",
    "                front_rank_to_index = np.argsort(fitnesses_index_to_rank[last_front, f_i])\n",
    "                sorted_front = last_front[front_rank_to_index]\n",
    "\n",
    "                dim_distances = fitnesses[sorted_front[2:], f_i] - fitnesses[sorted_front[:-2], f_i]\n",
    "                dim_range = fitnesses[sorted_front[-1], f_i] - fitnesses[sorted_front[0], f_i]\n",
    "                normalised_distances[front_rank_to_index[1:-1], f_i] = dim_distances / dim_range\n",
    "                normalised_distances[front_rank_to_index[[0, -1]], f_i] = np.inf\n",
    "\n",
    "            averaged_distances = np.average(normalised_distances, axis=1)\n",
    "\n",
    "            choice = np.concatenate(fronts[:-1] + [last_front[np.argsort(averaged_distances)[(choice_size - pop_size):]]])\n",
    "        else:\n",
    "            choice = np.concatenate(fronts)\n",
    "\n",
    "        return Population(individuals[choice], ga)"
   ]
  },
  {
   "cell_type": "code",
   "execution_count": null,
   "metadata": {},
   "outputs": [],
   "source": [
    "# TODO tf model objective function combined with distance (table)\n",
    "class PyGAAObjectiveFnc(ObjectiveFncBase):\n",
    "    def __init__(self, model: Model, target_label: int, source_image: np.ndarray):\n",
    "        super(PyGAAObjectiveFnc, self).__init__()\n",
    "        \n",
    "        self._model = model\n",
    "        self._target_label = target_label\n",
    "        self._source_image = source_image\n",
    "        \n",
    "    def __call__(self, individuals: np.ndarray) -> np.ndarray:        \n",
    "        # norm of flattened individual - source_image\n",
    "        norms = np.empty(len(individuals), np.float)\n",
    "        for i in range(len(individuals)):\n",
    "            norms[i] = ssim(self._source_image.astype(np.float), individuals[i])\n",
    "        \n",
    "#         norms = np.linalg.norm((individuals - self._source_image).reshape((len(individuals), -1)), axis=-1)\n",
    "                               \n",
    "        # logits on individuals values in [0, 1]\n",
    "        logits = model(np.expand_dims(individuals, -1))[:, self._target_label]\n",
    "        \n",
    "        # create array by merging columns\n",
    "        return np.stack((logits, norms), axis=-1)"
   ]
  },
  {
   "cell_type": "code",
   "execution_count": null,
   "metadata": {},
   "outputs": [],
   "source": [
    "class PyGAAFitnessFnc(FitnessFncBase):\n",
    "    def __call__(self, individuals: np.ndarray, objectives: np.ndarray) -> np.ndarray:\n",
    "        return objectives"
   ]
  },
  {
   "cell_type": "code",
   "execution_count": null,
   "metadata": {},
   "outputs": [],
   "source": [
    "graph = OperatorGraph()\n",
    "\n",
    "select_op = ShuffleOperator(graph.init_op)\n",
    "xover_op = TwoPointXover(select_op, 0.6)\n",
    "mutation_op = BiasedMutation(xover_op, sigma=16, l_bound=0, u_bound=255)\n",
    "moea_op = NSGAOperator(graph.init_op, mutation_op)\n",
    "\n",
    "# select_op = TournamentSelection(graph.init_op, 3)\n",
    "# xover_op = TwoPointXover(select_op, 0.6)\n",
    "# mutation_op = BiasedMutation(xover_op, sigma=5, l_bound=0, u_bound=255)"
   ]
  },
  {
   "cell_type": "code",
   "execution_count": null,
   "metadata": {},
   "outputs": [],
   "source": [
    "model = KerasModel('playground/best_residual_dropout_nn_emnist_2.h5', 512)"
   ]
  },
  {
   "cell_type": "code",
   "execution_count": null,
   "metadata": {},
   "outputs": [],
   "source": [
    "(train_X, train_y), (test_X, test_y), index = loader.load_idx_dataset('datasets/emnist_balanced/')"
   ]
  },
  {
   "cell_type": "code",
   "execution_count": null,
   "metadata": {},
   "outputs": [],
   "source": [
    "plt.imshow(train_X[15])"
   ]
  },
  {
   "cell_type": "code",
   "execution_count": null,
   "metadata": {},
   "outputs": [],
   "source": [
    "class MultiObjectiveReport(CallbackBase):\n",
    "    def __init__(self, ax: plt.Axes):\n",
    "        super(MultiObjectiveReport, self).__init__()\n",
    "        \n",
    "        self._ax = ax\n",
    "\n",
    "    def __call__(self, ga: 'GeneticAlgorithm') -> None:\n",
    "        self._ax.lines = []\n",
    "        self._ax.plot(*ga.capture(-1).objectives.transpose(), 'r+')"
   ]
  },
  {
   "cell_type": "code",
   "execution_count": null,
   "metadata": {
    "scrolled": false
   },
   "outputs": [],
   "source": [
    "%matplotlib notebook\n",
    "\n",
    "fig, ax = plt.subplots(1, 1, figsize=(13,6))\n",
    "# fig.tight_layout()\n",
    "\n",
    "ax.set_xlim(0.0000000000000001, 1)\n",
    "ax.set_ylim(0.6, 1)\n",
    "ax.set_xscale('log')\n",
    "ax.grid(axis='both')\n",
    "\n",
    "callbacks = [GAStatus(fig), MultiObjectiveReport(ax)]\n",
    "# callbacks = [GAStatus(fig), BestImgReport(ax[0, 0]), HistoryReport(ax[0, 1], ax[1, 0], ax[1, 1])]"
   ]
  },
  {
   "cell_type": "code",
   "execution_count": null,
   "metadata": {
    "scrolled": false
   },
   "outputs": [],
   "source": [
    "ga = GeneticAlgorithm(\n",
    "    initialization=RandomStdInit((28, 28), sigma=32, mu=train_X[15]),\n",
    "    operator_graph=graph,\n",
    "    objective_fnc=PyGAAObjectiveFnc(model, 32, train_X[15]),\n",
    "    fitness_fnc=PyGAAFitnessFnc(),\n",
    "    callbacks=callbacks\n",
    ")"
   ]
  },
  {
   "cell_type": "code",
   "execution_count": null,
   "metadata": {
    "scrolled": true
   },
   "outputs": [],
   "source": [
    "final_pop, fitnesses, objectives = ga.run(population_size=1024, generation_cap=512)"
   ]
  },
  {
   "cell_type": "code",
   "execution_count": null,
   "metadata": {},
   "outputs": [],
   "source": [
    "result = _"
   ]
  },
  {
   "cell_type": "code",
   "execution_count": null,
   "metadata": {},
   "outputs": [],
   "source": [
    "pop, fitnesses, objectives = result"
   ]
  },
  {
   "cell_type": "code",
   "execution_count": null,
   "metadata": {},
   "outputs": [],
   "source": [
    "best_i = fitnesses[-1, :, 0].argmax()"
   ]
  },
  {
   "cell_type": "code",
   "execution_count": null,
   "metadata": {},
   "outputs": [],
   "source": [
    "feasible_indices, *_ = np.where(fitnesses[-1, :, 0] > 0.5)"
   ]
  },
  {
   "cell_type": "code",
   "execution_count": null,
   "metadata": {},
   "outputs": [],
   "source": [
    "best_i = feasible_indices[fitnesses[-1, feasible_indices, 1].argmax()]"
   ]
  },
  {
   "cell_type": "code",
   "execution_count": null,
   "metadata": {},
   "outputs": [],
   "source": [
    "best_i"
   ]
  },
  {
   "cell_type": "code",
   "execution_count": null,
   "metadata": {},
   "outputs": [],
   "source": [
    "%matplotlib notebook\n",
    "\n",
    "compare_fig, compare_ax = plt.subplots(1, 2, figsize=(13, 6))\n",
    "compare_ax[0].imshow(train_X[15])\n",
    "compare_ax[1].imshow(pop.individuals[best_i] - train_X[15])"
   ]
  },
  {
   "cell_type": "code",
   "execution_count": null,
   "metadata": {},
   "outputs": [],
   "source": [
    "# pred = model((pop.individuals[best_i] - train_X[15] + train_X[116]).reshape(1,28,28,1))\n",
    "pred = model((train_X[15]).reshape(1,28,28,1))"
   ]
  },
  {
   "cell_type": "code",
   "execution_count": null,
   "metadata": {},
   "outputs": [],
   "source": [
    "pred.argmax()"
   ]
  },
  {
   "cell_type": "code",
   "execution_count": null,
   "metadata": {},
   "outputs": [],
   "source": [
    "index[pred.argmax()]"
   ]
  },
  {
   "cell_type": "code",
   "execution_count": null,
   "metadata": {},
   "outputs": [],
   "source": [
    "%matplotlib notebook\n",
    "\n",
    "plt.imshow(result_pop.individuals[result_pop.fitnesses.argmax()])"
   ]
  },
  {
   "cell_type": "code",
   "execution_count": null,
   "metadata": {},
   "outputs": [],
   "source": [
    "result.fitnesses.argmax()"
   ]
  },
  {
   "cell_type": "code",
   "execution_count": null,
   "metadata": {},
   "outputs": [],
   "source": [
    "result.individuals[1]"
   ]
  },
  {
   "cell_type": "code",
   "execution_count": null,
   "metadata": {},
   "outputs": [],
   "source": [
    "index[model(train_X[15].reshape((1,28,28,1))).argmax()]"
   ]
  },
  {
   "cell_type": "code",
   "execution_count": null,
   "metadata": {},
   "outputs": [],
   "source": [
    "winner = result_pop.individuals[result_pop.fitnesses.argmax()]"
   ]
  },
  {
   "cell_type": "code",
   "execution_count": null,
   "metadata": {},
   "outputs": [],
   "source": [
    "index[model(winner.reshape((1,28,28,1))).argmax()]"
   ]
  },
  {
   "cell_type": "code",
   "execution_count": null,
   "metadata": {},
   "outputs": [],
   "source": [
    "%matplotlib notebook\n",
    "\n",
    "BestImgReport()"
   ]
  },
  {
   "cell_type": "code",
   "execution_count": null,
   "metadata": {},
   "outputs": [],
   "source": [
    "# TODO composite layout - callbacks register their respective output window (or the window is assigned - axis object)"
   ]
  }
 ],
 "metadata": {
  "kernelspec": {
   "display_name": "Python 3",
   "language": "python",
   "name": "python3"
  },
  "language_info": {
   "codemirror_mode": {
    "name": "ipython",
    "version": 3
   },
   "file_extension": ".py",
   "mimetype": "text/x-python",
   "name": "python",
   "nbconvert_exporter": "python",
   "pygments_lexer": "ipython3",
   "version": "3.6.3"
  }
 },
 "nbformat": 4,
 "nbformat_minor": 2
}
